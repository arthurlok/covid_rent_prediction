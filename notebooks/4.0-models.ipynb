{
 "cells": [
  {
   "cell_type": "code",
   "execution_count": 1,
   "metadata": {},
   "outputs": [],
   "source": [
    "import pandas as pd\n",
    "import numpy as np\n",
    "\n",
    "covidData = pd.read_csv('../data/interim/covidData.csv', index_col=0)\n",
    "rel_census_data = pd.read_csv('../data/interim/rel_census_data.csv', index_col=0)\n",
    "rent_clean = pd.read_csv('../data/interim/rent_clean.csv', index_col=0)\n",
    "inv_clean = pd.read_csv('../data/interim/inv_clean.csv', index_col=0)\n",
    "combined_data = pd.read_csv('../data/processed/combined_data.csv', index_col=0)"
   ]
  },
  {
   "cell_type": "code",
   "execution_count": 2,
   "metadata": {},
   "outputs": [],
   "source": [
    "from sklearn.model_selection import RandomizedSearchCV\n",
    "from sklearn.linear_model import LinearRegression\n",
    "from sklearn.ensemble import RandomForestRegressor\n",
    "from sklearn import datasets, ensemble\n",
    "from sklearn.neighbors import KNeighborsRegressor\n",
    "from sklearn.ensemble import GradientBoostingClassifier\n",
    "from sklearn.preprocessing import StandardScaler\n",
    "from sklearn.decomposition import PCA\n",
    "from sklearn.tree import DecisionTreeRegressor\n",
    "from sklearn.linear_model import Ridge\n",
    "from sklearn.metrics import mean_squared_error"
   ]
  },
  {
   "cell_type": "markdown",
   "metadata": {},
   "source": [
    "## Models"
   ]
  },
  {
   "cell_type": "markdown",
   "metadata": {},
   "source": [
    "#### Baseline"
   ]
  },
  {
   "cell_type": "code",
   "execution_count": 3,
   "metadata": {},
   "outputs": [],
   "source": [
    "from sklearn.metrics import mean_squared_error"
   ]
  },
  {
   "cell_type": "code",
   "execution_count": 4,
   "metadata": {},
   "outputs": [
    {
     "data": {
      "text/html": [
       "<div>\n",
       "<style scoped>\n",
       "    .dataframe tbody tr th:only-of-type {\n",
       "        vertical-align: middle;\n",
       "    }\n",
       "\n",
       "    .dataframe tbody tr th {\n",
       "        vertical-align: top;\n",
       "    }\n",
       "\n",
       "    .dataframe thead th {\n",
       "        text-align: right;\n",
       "    }\n",
       "</style>\n",
       "<table border=\"1\" class=\"dataframe\">\n",
       "  <thead>\n",
       "    <tr style=\"text-align: right;\">\n",
       "      <th></th>\n",
       "      <th>prev_month_rent</th>\n",
       "      <th>rent</th>\n",
       "    </tr>\n",
       "  </thead>\n",
       "  <tbody>\n",
       "    <tr>\n",
       "      <th>0</th>\n",
       "      <td>2834.0</td>\n",
       "      <td>2850.0</td>\n",
       "    </tr>\n",
       "    <tr>\n",
       "      <th>1</th>\n",
       "      <td>3872.0</td>\n",
       "      <td>3848.0</td>\n",
       "    </tr>\n",
       "    <tr>\n",
       "      <th>2</th>\n",
       "      <td>5800.0</td>\n",
       "      <td>5595.0</td>\n",
       "    </tr>\n",
       "    <tr>\n",
       "      <th>3</th>\n",
       "      <td>6708.0</td>\n",
       "      <td>7000.0</td>\n",
       "    </tr>\n",
       "    <tr>\n",
       "      <th>4</th>\n",
       "      <td>2850.0</td>\n",
       "      <td>2875.0</td>\n",
       "    </tr>\n",
       "    <tr>\n",
       "      <th>...</th>\n",
       "      <td>...</td>\n",
       "      <td>...</td>\n",
       "    </tr>\n",
       "    <tr>\n",
       "      <th>11335</th>\n",
       "      <td>2100.0</td>\n",
       "      <td>2125.0</td>\n",
       "    </tr>\n",
       "    <tr>\n",
       "      <th>11336</th>\n",
       "      <td>2950.0</td>\n",
       "      <td>2695.0</td>\n",
       "    </tr>\n",
       "    <tr>\n",
       "      <th>11337</th>\n",
       "      <td>1626.0</td>\n",
       "      <td>1699.0</td>\n",
       "    </tr>\n",
       "    <tr>\n",
       "      <th>11338</th>\n",
       "      <td>2125.0</td>\n",
       "      <td>2100.0</td>\n",
       "    </tr>\n",
       "    <tr>\n",
       "      <th>11339</th>\n",
       "      <td>2695.0</td>\n",
       "      <td>2760.0</td>\n",
       "    </tr>\n",
       "  </tbody>\n",
       "</table>\n",
       "<p>11340 rows × 2 columns</p>\n",
       "</div>"
      ],
      "text/plain": [
       "       prev_month_rent    rent\n",
       "0               2834.0  2850.0\n",
       "1               3872.0  3848.0\n",
       "2               5800.0  5595.0\n",
       "3               6708.0  7000.0\n",
       "4               2850.0  2875.0\n",
       "...                ...     ...\n",
       "11335           2100.0  2125.0\n",
       "11336           2950.0  2695.0\n",
       "11337           1626.0  1699.0\n",
       "11338           2125.0  2100.0\n",
       "11339           2695.0  2760.0\n",
       "\n",
       "[11340 rows x 2 columns]"
      ]
     },
     "execution_count": 4,
     "metadata": {},
     "output_type": "execute_result"
    }
   ],
   "source": [
    "baseline_data_rent_only = combined_data.copy()[['prev_month_rent','rent']]\n",
    "baseline_data_rent_only"
   ]
  },
  {
   "cell_type": "code",
   "execution_count": 5,
   "metadata": {},
   "outputs": [
    {
     "name": "stdout",
     "output_type": "stream",
     "text": [
      "MSE using previous month price:  60760.319269302374\n"
     ]
    }
   ],
   "source": [
    "baseline_mse = mean_squared_error(baseline_data_rent_only['prev_month_rent'], baseline_data_rent_only['rent'])\n",
    "\n",
    "print(\"MSE using previous month price: \", baseline_mse)"
   ]
  },
  {
   "cell_type": "markdown",
   "metadata": {},
   "source": [
    "#### Linear Regression"
   ]
  },
  {
   "cell_type": "code",
   "execution_count": 6,
   "metadata": {},
   "outputs": [],
   "source": [
    "from sklearn.linear_model import LinearRegression\n",
    "from sklearn.model_selection import train_test_split"
   ]
  },
  {
   "cell_type": "code",
   "execution_count": 7,
   "metadata": {},
   "outputs": [
    {
     "name": "stdout",
     "output_type": "stream",
     "text": [
      "Mean Square Error Average for 100 trials:  58679.45662206519\n",
      "Mean Error Average for 100 trials:  242.23842928417693\n",
      "Feature Coefs: \n",
      "                                              feature        coef\n",
      "42  employment_status_for_the_population_16_years_...  134.844610\n",
      "5                      covid_rate_of_increase_prev_mo   78.147294\n",
      "4                              covid_rate_of_increase   42.418444\n",
      "7                                             month_2   39.773245\n",
      "24                                            bd__3.0   30.062589\n",
      "6                                             month_1   29.782644\n",
      "16                                           month_11   22.616019\n",
      "19                                          year_2019   21.755077\n",
      "13                                            month_8   12.904809\n",
      "17                                           month_12   12.026572\n",
      "23                                            bd__2.0    5.826296\n",
      "18                                          year_2018    5.456156\n",
      "8                                             month_3    4.103915\n",
      "15                                           month_10    4.012260\n",
      "14                                            month_9    3.316022\n",
      "51  median_gross_rent_as_a_percentage_of_household...    2.069801\n",
      "61  tenure_occupied_housing_units_total_renter_occ...    1.518579\n",
      "0                                     prev_month_rent    0.974672\n",
      "2                                    covid_%_positive    0.728227\n",
      "47  median_contract_rent_(dollars)__renter-occupie...    0.049686\n"
     ]
    }
   ],
   "source": [
    "n = 100\n",
    "X = combined_data.iloc[:,1:]\n",
    "Y = combined_data.iloc[:,0]\n",
    "MSE_LR = np.empty([n, 1])\n",
    "\n",
    "for i in range(100):\n",
    "  X_train, X_test, Y_train, Y_test = train_test_split( X, Y, test_size=0.20)\n",
    "  lr = LinearRegression().fit(X_train, Y_train)\n",
    "  val = mean_squared_error(Y_test,lr.predict(X_test))\n",
    "  MSE_LR[i] = val\n",
    "  #print(\"MSE: \", mean_squared_error(Y_test,lr.predict(X_test)))\n",
    "  #print(\"Mean Error (Magnitude): \", np.sqrt(mean_squared_error(Y_test,lr.predict(X_test))))\n",
    "  \n",
    "  feature_coefs = pd.DataFrame(zip(X_train.columns.tolist(), lr.coef_.tolist()),columns=['feature','coef'])\n",
    "  #print(\"Feature Coefs: \")\n",
    "  #print(feature_coefs.sort_values(by='coef',ascending=False).head(5))\n",
    "\n",
    "print(\"Mean Square Error Average for 100 trials: \",MSE_LR.mean())\n",
    "print(\"Mean Error Average for 100 trials: \", np.sqrt(MSE_LR.mean()))\n",
    "\n",
    "print(\"Feature Coefs: \")\n",
    "print(feature_coefs.sort_values(by='coef',ascending=False).head(20))"
   ]
  },
  {
   "cell_type": "markdown",
   "metadata": {},
   "source": [
    "#### Decision Tree "
   ]
  },
  {
   "cell_type": "code",
   "execution_count": 8,
   "metadata": {},
   "outputs": [],
   "source": [
    "from sklearn.tree import DecisionTreeRegressor"
   ]
  },
  {
   "cell_type": "code",
   "execution_count": 9,
   "metadata": {},
   "outputs": [
    {
     "name": "stdout",
     "output_type": "stream",
     "text": [
      "Mean Square Error Average for 100 trials:  74120.60276996989\n",
      "Mean Square Error Average for 100 trials:  272.25099222954157\n"
     ]
    }
   ],
   "source": [
    "N = 100\n",
    "MSE_DT = np.empty([N, 1])\n",
    "\n",
    "for i in range(N):\n",
    "    DT_model = DecisionTreeRegressor(random_state = i)\n",
    "    X_train, X_test, Y_train, Y_test = train_test_split(X,Y,test_size = 0.2, random_state = 101)\n",
    "    DT_model.fit(X_train, Y_train)\n",
    "    DT_result = DT_model.predict(X_test)\n",
    "    MSE_DT[i] = mean_squared_error(Y_test, DT_result)\n",
    "\n",
    "\n",
    "print(\"Mean Square Error Average for 100 trials: \", MSE_DT.mean())\n",
    "print(\"Mean Square Error Average for 100 trials: \", np.sqrt(MSE_DT.mean()))"
   ]
  },
  {
   "cell_type": "markdown",
   "metadata": {},
   "source": [
    "#### Gradient Boosted Model (GBM)"
   ]
  },
  {
   "cell_type": "code",
   "execution_count": 10,
   "metadata": {},
   "outputs": [],
   "source": [
    "from sklearn import datasets, ensemble"
   ]
  },
  {
   "cell_type": "code",
   "execution_count": 11,
   "metadata": {},
   "outputs": [
    {
     "name": "stdout",
     "output_type": "stream",
     "text": [
      "Mean Square Error Average for 100 trials:  46863.279118376435\n",
      "Mean Square Error Average for 100 trials:  216.4792810371848\n"
     ]
    }
   ],
   "source": [
    "N = 5\n",
    "MSE_GBM = np.empty([N, 1])\n",
    "\n",
    "for i in range(N):\n",
    "    X_train, X_test, Y_train, Y_test = train_test_split(X,Y,test_size = 0.2, random_state = i)\n",
    "    GBM_reg = ensemble.GradientBoostingRegressor()\n",
    "    GBM_reg.fit(X_train, Y_train)\n",
    "    GBM_result = GBM_reg.predict(X_test)\n",
    "    MSE_GBM[i] = mean_squared_error(Y_test, GBM_result)\n",
    "\n",
    "\n",
    "print(\"Mean Square Error Average for 100 trials: \", MSE_GBM.mean())\n",
    "print(\"Mean Square Error Average for 100 trials: \", np.sqrt(MSE_GBM.mean()))"
   ]
  },
  {
   "cell_type": "markdown",
   "metadata": {},
   "source": [
    "#### Random Forest (RF)"
   ]
  },
  {
   "cell_type": "code",
   "execution_count": 12,
   "metadata": {},
   "outputs": [],
   "source": [
    "from sklearn.ensemble import RandomForestRegressor"
   ]
  },
  {
   "cell_type": "code",
   "execution_count": 13,
   "metadata": {},
   "outputs": [
    {
     "name": "stdout",
     "output_type": "stream",
     "text": [
      "Mean Square Error Average for 100 trials:  42564.332670724325\n",
      "Mean Error Average for 100 trials:  206.31125192466922\n"
     ]
    }
   ],
   "source": [
    "N = 5\n",
    "MSE_RF = np.empty([N, 1])\n",
    "X=combined_data.iloc[:,1:]\n",
    "Y=combined_data.iloc[:,0]\n",
    "\n",
    "for i in range(N):\n",
    "    X_train, X_test, Y_train, Y_test = train_test_split(X,Y,test_size = 0.2, random_state = i)\n",
    "    RF = RandomForestRegressor()\n",
    "    RF.fit(X_train, Y_train)\n",
    "    RF_result = RF.predict(X_test)\n",
    "    MSE_RF[i] = mean_squared_error(Y_test, RF_result)\n",
    "\n",
    "# print(MSE_RF)\n",
    "print(\"Mean Square Error Average for 100 trials: \", MSE_RF.mean())\n",
    "print(\"Mean Error Average for 100 trials: \", np.sqrt(MSE_RF.mean()))"
   ]
  },
  {
   "cell_type": "markdown",
   "metadata": {},
   "source": [
    "#### Random Forest Fine Tuning "
   ]
  },
  {
   "cell_type": "code",
   "execution_count": 14,
   "metadata": {},
   "outputs": [],
   "source": [
    "from sklearn.model_selection import RandomizedSearchCV\n",
    "from sklearn.metrics import mean_absolute_error"
   ]
  },
  {
   "cell_type": "code",
   "execution_count": 15,
   "metadata": {},
   "outputs": [],
   "source": [
    "X=combined_data.iloc[:,1:]\n",
    "Y=combined_data.iloc[:,0]\n",
    "X_train, X_test, Y_train, Y_test = train_test_split(X,Y,test_size = 0.2)"
   ]
  },
  {
   "cell_type": "code",
   "execution_count": 16,
   "metadata": {},
   "outputs": [],
   "source": [
    "# Number of trees in random forest\n",
    "n_estimators = [int(x) for x in np.linspace(start = 5, stop = 100, num = 20)]\n",
    "\n",
    "# Number of features to consider at every split\n",
    "max_features = ['auto', 'sqrt']\n",
    "\n",
    "# Maximum number of levels in tree\n",
    "max_depth = [int(x) for x in np.linspace(10, 100, num = 10)]\n",
    "max_depth.append(None)\n",
    "\n",
    "# Minimum number of samples required to split a node\n",
    "min_samples_split = [5, 10,20,30,40,50]\n",
    "\n",
    "# Minimum number of samples required at each leaf node\n",
    "min_samples_leaf = [5, 10,20,30,40,50]\n",
    "\n",
    "# Method of selecting samples for training each tree\n",
    "bootstrap = [True, False]\n",
    "\n",
    "# Create the random grid\n",
    "random_grid = {'n_estimators': n_estimators,\n",
    "               'max_features': max_features,\n",
    "               'max_depth': max_depth,\n",
    "               'min_samples_split': min_samples_split,\n",
    "               'min_samples_leaf': min_samples_leaf,\n",
    "               'bootstrap': bootstrap,\n",
    "               }"
   ]
  },
  {
   "cell_type": "code",
   "execution_count": 17,
   "metadata": {},
   "outputs": [
    {
     "name": "stdout",
     "output_type": "stream",
     "text": [
      "Fitting 3 folds for each of 100 candidates, totalling 300 fits\n"
     ]
    },
    {
     "data": {
      "text/plain": [
       "RandomizedSearchCV(cv=3, estimator=RandomForestRegressor(), n_iter=100,\n",
       "                   n_jobs=-1,\n",
       "                   param_distributions={'bootstrap': [True, False],\n",
       "                                        'max_depth': [10, 20, 30, 40, 50, 60,\n",
       "                                                      70, 80, 90, 100, None],\n",
       "                                        'max_features': ['auto', 'sqrt'],\n",
       "                                        'min_samples_leaf': [5, 10, 20, 30, 40,\n",
       "                                                             50],\n",
       "                                        'min_samples_split': [5, 10, 20, 30, 40,\n",
       "                                                              50],\n",
       "                                        'n_estimators': [5, 10, 15, 20, 25, 30,\n",
       "                                                         35, 40, 45, 50, 55, 60,\n",
       "                                                         65, 70, 75, 80, 85, 90,\n",
       "                                                         95, 100]},\n",
       "                   random_state=42, verbose=2)"
      ]
     },
     "execution_count": 17,
     "metadata": {},
     "output_type": "execute_result"
    }
   ],
   "source": [
    "# Use the random grid to search for best hyperparameters\n",
    "# First create the base model to tune\n",
    "rf = RandomForestRegressor()\n",
    "# Random search of parameters, using 3 fold cross validation, \n",
    "# search across 100 different combinations, and use all available core\n",
    "rf_random = RandomizedSearchCV(estimator = rf,param_distributions = random_grid, n_iter = 100, cv = 3, verbose=2, random_state=42, n_jobs = -1)\n",
    "# Fit the random search model\n",
    "rf_random.fit(X_train, Y_train)"
   ]
  },
  {
   "cell_type": "code",
   "execution_count": 18,
   "metadata": {},
   "outputs": [
    {
     "data": {
      "text/plain": [
       "{'n_estimators': 55,\n",
       " 'min_samples_split': 10,\n",
       " 'min_samples_leaf': 5,\n",
       " 'max_features': 'auto',\n",
       " 'max_depth': 100,\n",
       " 'bootstrap': True}"
      ]
     },
     "execution_count": 18,
     "metadata": {},
     "output_type": "execute_result"
    }
   ],
   "source": [
    "rf_random.best_params_"
   ]
  },
  {
   "cell_type": "code",
   "execution_count": 19,
   "metadata": {},
   "outputs": [],
   "source": [
    "MAE_rf_tuned=[]\n",
    "\n",
    "for i in range(50):\n",
    "    X_train, X_test, Y_train, Y_test = train_test_split( X, Y, test_size=0.20)\n",
    "    rf_tuned=RandomForestRegressor(bootstrap=True,max_depth=100,max_features='auto',min_samples_leaf=5,min_samples_split=10,n_estimators=55)\n",
    "    rf_tuned.fit(X_train, Y_train)\n",
    "    MAE_rf_tuned.append(mean_squared_error(Y_test,rf_tuned.predict(X_test)))"
   ]
  },
  {
   "cell_type": "code",
   "execution_count": 20,
   "metadata": {},
   "outputs": [
    {
     "data": {
      "text/plain": [
       "45642.12366913995"
      ]
     },
     "execution_count": 20,
     "metadata": {},
     "output_type": "execute_result"
    }
   ],
   "source": [
    "np.array(MAE_rf_tuned).mean()"
   ]
  },
  {
   "cell_type": "code",
   "execution_count": 21,
   "metadata": {},
   "outputs": [
    {
     "data": {
      "text/plain": [
       "101.12286316883448"
      ]
     },
     "execution_count": 21,
     "metadata": {},
     "output_type": "execute_result"
    }
   ],
   "source": [
    "X_train, X_test, Y_train, Y_test = train_test_split( X, Y, test_size=0.20)\n",
    "\n",
    "rf_tuned=RandomForestRegressor(bootstrap=True,max_depth=100,max_features='auto',min_samples_leaf=5,min_samples_split=10,n_estimators=55)\n",
    "rf_tuned.fit(X_train, Y_train)\n",
    "mean_absolute_error(Y_test,rf_tuned.predict(X_test))"
   ]
  },
  {
   "cell_type": "markdown",
   "metadata": {},
   "source": [
    "#### KNN"
   ]
  },
  {
   "cell_type": "code",
   "execution_count": 22,
   "metadata": {},
   "outputs": [],
   "source": [
    "from sklearn.neighbors import KNeighborsRegressor\n",
    "import matplotlib.pyplot as plt"
   ]
  },
  {
   "cell_type": "code",
   "execution_count": 23,
   "metadata": {},
   "outputs": [
    {
     "name": "stdout",
     "output_type": "stream",
     "text": [
      "Mean Square Error Average for 100 trials:  80805.66928843874\n",
      "Mean Error Average for 100 trials:  284.26338013968444\n"
     ]
    },
    {
     "data": {
      "text/plain": [
       "array([125194.26327405,  84239.82326113,  70366.65409461,  79483.81050875,\n",
       "        67975.13495733,  66316.14189328,  71074.22422233,  62064.70943551,\n",
       "        70686.07519896,  70682.43528962,  78356.36923862,  69722.53589453,\n",
       "        78894.54261309,  83533.43522423,  87361.07538168,  80517.14973784,\n",
       "        86406.76530499,  86413.81770019,  93964.98846142, 102859.43407661])"
      ]
     },
     "execution_count": 23,
     "metadata": {},
     "output_type": "execute_result"
    }
   ],
   "source": [
    "N = 5\n",
    "NN = 20 \n",
    "MSE_KNN = np.empty([N, NN])\n",
    "X=combined_data.iloc[:,1:]\n",
    "Y=combined_data.iloc[:,0]\n",
    "\n",
    "\n",
    "for k in range(NN):\n",
    "    for i in range(N):\n",
    "        X_train, X_test, Y_train, Y_test = train_test_split(X,Y,test_size = 0.2)\n",
    "        KNN = KNeighborsRegressor(n_neighbors = k+1)\n",
    "        KNN.fit(X_train, Y_train)\n",
    "        KNN_result = KNN.predict(X_test)\n",
    "        MSE_KNN[i][k] = mean_squared_error(Y_test, KNN_result)\n",
    "\n",
    "print(\"Mean Square Error Average for 100 trials: \", MSE_KNN.mean())\n",
    "print(\"Mean Error Average for 100 trials: \", np.sqrt(MSE_KNN.mean()))\n",
    "MSE_KNN.mean(axis=0)"
   ]
  },
  {
   "cell_type": "markdown",
   "metadata": {},
   "source": [
    "Plot different random states vs. mean squared error."
   ]
  },
  {
   "cell_type": "code",
   "execution_count": 24,
   "metadata": {},
   "outputs": [
    {
     "name": "stdout",
     "output_type": "stream",
     "text": [
      "Mean Square Error Average for 100 trials:  62064.709435511286\n",
      "Mean Error Average for 100 trials:  249.1278977463409\n"
     ]
    },
    {
     "data": {
      "image/png": "[encoded data removed]",
      "text/plain": [
       "<Figure size 432x288 with 1 Axes>"
      ]
     },
     "metadata": {
      "needs_background": "light"
     },
     "output_type": "display_data"
    }
   ],
   "source": [
    "MSE_KNN_mean = MSE_KNN.mean(axis=0)\n",
    "\n",
    "plt.plot(MSE_KNN_mean)\n",
    "plt.title('Random States MSE', size=15)\n",
    "plt.xlabel('States Number',size=15)\n",
    "plt.ylabel('MSE Value',size=15)\n",
    "\n",
    "best_MSE = MSE_KNN_mean.min()\n",
    "\n",
    "print(\"Mean Square Error Average for 100 trials: \", best_MSE)\n",
    "print(\"Mean Error Average for 100 trials: \", np.sqrt(best_MSE))"
   ]
  },
  {
   "cell_type": "markdown",
   "metadata": {},
   "source": [
    "## Model Evaluation"
   ]
  },
  {
   "cell_type": "code",
   "execution_count": 25,
   "metadata": {},
   "outputs": [],
   "source": [
    "import seaborn as sns"
   ]
  },
  {
   "cell_type": "markdown",
   "metadata": {},
   "source": [
    "Compare mean absolute error across models."
   ]
  },
  {
   "cell_type": "code",
   "execution_count": 26,
   "metadata": {},
   "outputs": [],
   "source": [
    "baseline_mae = mean_absolute_error(baseline_data_rent_only['prev_month_rent'], baseline_data_rent_only['rent'])"
   ]
  },
  {
   "cell_type": "code",
   "execution_count": null,
   "metadata": {},
   "outputs": [],
   "source": [
    "n = 50\n",
    "X = combined_data.iloc[:,[1,2,6,43,46]]\n",
    "# X = combined_data.iloc[:,1:]\n",
    "Y = combined_data.iloc[:,0]\n",
    "\n",
    "MAE_LR = []\n",
    "MAE_DT = []\n",
    "MAE_GBM = []\n",
    "MAE_RF = []\n",
    "MAE_KNN = []\n",
    "\n",
    "for i in range(50):\n",
    "    X_train, X_test, Y_train, Y_test = train_test_split( X, Y, test_size=0.20,random_state=i)\n",
    "    lr = LinearRegression().fit(X_train, Y_train)\n",
    "    MAE_LR.append(mean_absolute_error(Y_test,lr.predict(X_test)))\n",
    "\n",
    "    DT_model = DecisionTreeRegressor()\n",
    "    DT_model.fit(X_train, Y_train)\n",
    "    MAE_DT.append(mean_absolute_error(Y_test,DT_model.predict(X_test)))\n",
    "\n",
    "    GBM_reg = ensemble.GradientBoostingRegressor()\n",
    "    GBM_reg.fit(X_train, Y_train)\n",
    "    MAE_GBM.append(mean_absolute_error(Y_test, GBM_reg.predict(X_test)))\n",
    "\n",
    "    RF = RandomForestRegressor()\n",
    "    RF.fit(X_train, Y_train)\n",
    "    MAE_RF.append(mean_absolute_error(Y_test,RF.predict(X_test)))\n",
    "\n",
    "    KNN = KNeighborsRegressor(n_neighbors = 5)\n",
    "    KNN.fit(X_train, Y_train)\n",
    "    KNN_result = KNN.predict(X_test)\n",
    "    MAE_KNN.append(mean_absolute_error(Y_test, KNN_result))\n"
   ]
  },
  {
   "cell_type": "code",
   "execution_count": null,
   "metadata": {},
   "outputs": [],
   "source": [
    "MAE=pd.DataFrame(np.arange(1,51),columns=['trial_number'])\n",
    "MAE['Baseline']=np.repeat(baseline_mae,50)\n",
    "MAE['Linear Regression']=MAE_LR\n",
    "MAE['Decision Tree']=MAE_DT\n",
    "MAE['Gradient Boosted Tree']=MAE_GBM\n",
    "MAE['Random Forest']=MAE_RF\n",
    "MAE['K Nearest Neighbors']=MAE_KNN\n",
    "MAE=MAE.set_index('trial_number')"
   ]
  },
  {
   "cell_type": "code",
   "execution_count": null,
   "metadata": {},
   "outputs": [],
   "source": [
    "plt.figure(figsize=(12,6))\n",
    "sns.lineplot(data=MAE)\n",
    "plt.xlabel('Trial Number')\n",
    "plt.ylabel('Mean Absolute Error')\n",
    "plt.legend(loc=\"upper right\")\n",
    "plt.show()"
   ]
  },
  {
   "cell_type": "code",
   "execution_count": null,
   "metadata": {},
   "outputs": [],
   "source": [
    "MAE.mean().sort_values()"
   ]
  }
 ],
 "metadata": {
  "kernelspec": {
   "display_name": "Python 3",
   "language": "python",
   "name": "python3"
  },
  "language_info": {
   "codemirror_mode": {
    "name": "ipython",
    "version": 3
   },
   "file_extension": ".py",
   "mimetype": "text/x-python",
   "name": "python",
   "nbconvert_exporter": "python",
   "pygments_lexer": "ipython3",
   "version": "3.7.0"
  }
 },
 "nbformat": 4,
 "nbformat_minor": 4
}
