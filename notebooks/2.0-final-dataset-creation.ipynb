{
 "cells": [
  {
   "cell_type": "code",
   "execution_count": 1,
   "metadata": {},
   "outputs": [],
   "source": [
    "import pandas as pd\n",
    "\n",
    "covidData = pd.read_csv('../data/interim/covidData.csv', index_col=0)\n",
    "rel_census_data = pd.read_csv('../data/interim/rel_census_data.csv', index_col=0)\n",
    "rent_clean = pd.read_csv('../data/interim/rent_clean.csv', index_col=0)\n",
    "inv_clean = pd.read_csv('../data/interim/inv_clean.csv', index_col=0)"
   ]
  },
  {
   "cell_type": "markdown",
   "metadata": {},
   "source": [
    "## Final Dataset Creation"
   ]
  },
  {
   "cell_type": "markdown",
   "metadata": {},
   "source": [
    "#### Combining rent and inventory data"
   ]
  },
  {
   "cell_type": "markdown",
   "metadata": {},
   "source": [
    "Melt rent and inventory data to join in the right format. Create relevant time features. "
   ]
  },
  {
   "cell_type": "code",
   "execution_count": 2,
   "metadata": {},
   "outputs": [],
   "source": [
    "from dateutil.relativedelta import relativedelta\n",
    "\n",
    "combined_data = rent_clean\n",
    "combined_data = combined_data.melt(id_vars=['zipcode','bd'])\n",
    "\n",
    "#Create new time features\n",
    "combined_data['timestamp'] = pd.to_datetime(combined_data.variable,format='%Y-%m')\n",
    "combined_data['month'] = combined_data['timestamp'].dt.month\n",
    "combined_data['quarter'] = combined_data['timestamp'].dt.quarter\n",
    "combined_data['year'] = combined_data['timestamp'].dt.year\n",
    "\n",
    "combined_data['prev_timestamp'] = combined_data['timestamp'].apply(lambda x: x - relativedelta(months=1))"
   ]
  },
  {
   "cell_type": "code",
   "execution_count": 3,
   "metadata": {},
   "outputs": [],
   "source": [
    "# Create previous month rent price feature\n",
    "\n",
    "for i in range(len(combined_data)):\n",
    "    row_zipcode = combined_data.zipcode.iloc[i]\n",
    "    row_bd = combined_data.bd.iloc[i]\n",
    "    row_prev_timestamp = combined_data.prev_timestamp.iloc[i]\n",
    "\n",
    "    try:\n",
    "        prev_rent_price = combined_data['value'][(combined_data.zipcode == row_zipcode) & (combined_data.timestamp == row_prev_timestamp) & (combined_data.bd == row_bd)].values\n",
    "        combined_data.loc[i, 'prev_month_rent'] = prev_rent_price\n",
    "    except Exception as e: \n",
    "        continue"
   ]
  },
  {
   "cell_type": "code",
   "execution_count": 4,
   "metadata": {},
   "outputs": [],
   "source": [
    "from dateutil.relativedelta import relativedelta\n",
    "\n",
    "combine_inv = inv_clean\n",
    "combine_inv = combine_inv.melt(id_vars=['zipcode','bd'])\n",
    "\n",
    "#Create new time features\n",
    "combine_inv['timestamp'] = pd.to_datetime(combine_inv.variable,format='%Y-%m')\n",
    "combine_inv['month'] = combine_inv['timestamp'].dt.month\n",
    "combine_inv['quarter'] = combine_inv['timestamp'].dt.quarter\n",
    "combine_inv['year'] = combine_inv['timestamp'].dt.year\n",
    "\n",
    "combine_inv['prev_timestamp'] = combine_inv['timestamp'].apply(lambda x: x - relativedelta(months=1))\n",
    "\n",
    "for i in range(len(combine_inv)):\n",
    "    row_zipcode = combine_inv.zipcode.iloc[i]\n",
    "    row_bd = combine_inv.bd.iloc[i]\n",
    "    row_prev_timestamp = combine_inv.prev_timestamp.iloc[i]\n",
    "\n",
    "    try:\n",
    "        prev_inventory = combine_inv['value'][(combine_inv.zipcode == row_zipcode) & (combine_inv.timestamp == row_prev_timestamp) & (combine_inv.bd == row_bd)].values\n",
    "        combine_inv.loc[i, 'prev_inventory'] = prev_inventory\n",
    "    except Exception as e: \n",
    "        continue\n",
    "\n",
    "combine_inv.insert(0, 'inventory', combine_inv['value'])\n",
    "combine_inv.drop(['variable','value','timestamp','prev_timestamp'],axis=1,inplace=True)\n",
    "combine_inv.dropna(inplace=True)"
   ]
  },
  {
   "cell_type": "code",
   "execution_count": 5,
   "metadata": {},
   "outputs": [
    {
     "data": {
      "text/html": [
       "<div>\n",
       "<style scoped>\n",
       "    .dataframe tbody tr th:only-of-type {\n",
       "        vertical-align: middle;\n",
       "    }\n",
       "\n",
       "    .dataframe tbody tr th {\n",
       "        vertical-align: top;\n",
       "    }\n",
       "\n",
       "    .dataframe thead th {\n",
       "        text-align: right;\n",
       "    }\n",
       "</style>\n",
       "<table border=\"1\" class=\"dataframe\">\n",
       "  <thead>\n",
       "    <tr style=\"text-align: right;\">\n",
       "      <th></th>\n",
       "      <th>zipcode</th>\n",
       "      <th>bd</th>\n",
       "      <th>variable</th>\n",
       "      <th>value</th>\n",
       "      <th>timestamp</th>\n",
       "      <th>month</th>\n",
       "      <th>quarter</th>\n",
       "      <th>year</th>\n",
       "      <th>prev_timestamp</th>\n",
       "      <th>prev_month_rent</th>\n",
       "      <th>inventory</th>\n",
       "      <th>prev_inventory</th>\n",
       "    </tr>\n",
       "  </thead>\n",
       "  <tbody>\n",
       "    <tr>\n",
       "      <th>0</th>\n",
       "      <td>10001</td>\n",
       "      <td>0.0</td>\n",
       "      <td>2018-07</td>\n",
       "      <td>2850.0</td>\n",
       "      <td>2018-07-01</td>\n",
       "      <td>7</td>\n",
       "      <td>3</td>\n",
       "      <td>2018</td>\n",
       "      <td>2018-06-01</td>\n",
       "      <td>2834.0</td>\n",
       "      <td>250.0</td>\n",
       "      <td>262.0</td>\n",
       "    </tr>\n",
       "    <tr>\n",
       "      <th>1</th>\n",
       "      <td>10001</td>\n",
       "      <td>1.0</td>\n",
       "      <td>2018-07</td>\n",
       "      <td>3848.0</td>\n",
       "      <td>2018-07-01</td>\n",
       "      <td>7</td>\n",
       "      <td>3</td>\n",
       "      <td>2018</td>\n",
       "      <td>2018-06-01</td>\n",
       "      <td>3872.0</td>\n",
       "      <td>424.0</td>\n",
       "      <td>409.0</td>\n",
       "    </tr>\n",
       "    <tr>\n",
       "      <th>2</th>\n",
       "      <td>10001</td>\n",
       "      <td>2.0</td>\n",
       "      <td>2018-07</td>\n",
       "      <td>5595.0</td>\n",
       "      <td>2018-07-01</td>\n",
       "      <td>7</td>\n",
       "      <td>3</td>\n",
       "      <td>2018</td>\n",
       "      <td>2018-06-01</td>\n",
       "      <td>5800.0</td>\n",
       "      <td>247.0</td>\n",
       "      <td>245.0</td>\n",
       "    </tr>\n",
       "  </tbody>\n",
       "</table>\n",
       "</div>"
      ],
      "text/plain": [
       "   zipcode   bd variable   value  timestamp  month  quarter  year  \\\n",
       "0    10001  0.0  2018-07  2850.0 2018-07-01      7        3  2018   \n",
       "1    10001  1.0  2018-07  3848.0 2018-07-01      7        3  2018   \n",
       "2    10001  2.0  2018-07  5595.0 2018-07-01      7        3  2018   \n",
       "\n",
       "  prev_timestamp  prev_month_rent  inventory  prev_inventory  \n",
       "0     2018-06-01           2834.0      250.0           262.0  \n",
       "1     2018-06-01           3872.0      424.0           409.0  \n",
       "2     2018-06-01           5800.0      247.0           245.0  "
      ]
     },
     "execution_count": 5,
     "metadata": {},
     "output_type": "execute_result"
    }
   ],
   "source": [
    "# merge rent and inventory data\n",
    "combined_data=combined_data.merge(combine_inv,how='inner',on=['zipcode','bd','month','quarter','year'])\n",
    "\n",
    "cpy = combined_data\n",
    "cpy.to_csv('../data/interim/combined_data_interim.csv')\n",
    "combined_data.head(3)"
   ]
  },
  {
   "cell_type": "code",
   "execution_count": 6,
   "metadata": {},
   "outputs": [],
   "source": [
    "covid_data_melt = covidData.melt(id_vars='zipcode')\n",
    "\n",
    "# Parse timestamp and type of data\n",
    "covid_data_melt['type'] = covid_data_melt['variable'].str.split('-',expand=True)[1]\n",
    "covid_data_melt['timestamp'] = pd.to_datetime('2020-' + covid_data_melt['variable'].str[:3],format=\"%Y-%b\")\n",
    "\n",
    "# Joining Covid Data\n",
    "\n",
    "# % Positive for current month and previous month\n",
    "percent_positive = covid_data_melt[covid_data_melt['type'] == 'Percent Positive'][['zipcode','timestamp','value']]\n",
    "percent_positive.columns = ['zipcode','timestamp','covid_%_positive']\n",
    "\n",
    "combined_data = pd.merge(combined_data, percent_positive,  how='left', on=['timestamp','zipcode'])\n",
    "combined_data = pd.merge(combined_data, percent_positive,  how='left', left_on=['prev_timestamp','zipcode'], right_on=['timestamp','zipcode'], suffixes=('','_prev_mo'))\n",
    "\n",
    "# Rate of Increase for current month and previous month\n",
    "\n",
    "rate_of_increase = covid_data_melt[covid_data_melt['type'] == 'Rate of Increase'][['zipcode','timestamp','value']]\n",
    "rate_of_increase.columns = ['zipcode','timestamp','covid_rate_of_increase']\n",
    "\n",
    "combined_data = pd.merge(combined_data, rate_of_increase,  how='left', on=['timestamp','zipcode'])\n",
    "combined_data = pd.merge(combined_data, rate_of_increase,  how='left', left_on=['prev_timestamp','zipcode'], right_on=['timestamp','zipcode'], suffixes=('','_prev_mo'))\n",
    "\n",
    "combined_data = combined_data.drop(['timestamp_prev_mo'],axis=1)\n",
    "\n",
    "# Fill NA in covid cols\n",
    "covid_cols = ['covid_%_positive','covid_%_positive_prev_mo','covid_rate_of_increase','covid_rate_of_increase_prev_mo']\n",
    "combined_data[covid_cols] = combined_data[covid_cols].fillna(value=0)"
   ]
  },
  {
   "cell_type": "code",
   "execution_count": 7,
   "metadata": {},
   "outputs": [],
   "source": [
    "# Renaming and moving rent column\n",
    "combined_data.insert(0, 'rent', combined_data['value'])\n",
    "\n",
    "# Removing columns that won't be used as features now and dropping earliest month values (no previous month rent feature for those)\n",
    "combined_data.drop(['variable','value','timestamp','prev_timestamp'],axis=1,inplace=True)\n",
    "combined_data.dropna(inplace=True)\n",
    "\n",
    "# Encoding dummy variables for categorical columns\n",
    "\n",
    "# Month\n",
    "month_dummies = pd.get_dummies(combined_data['month'],prefix='month')\n",
    "combined_data = pd.concat([combined_data,month_dummies],axis=1)\n",
    "\n",
    "# Quarter\n",
    "# quarter_dummies = pd.get_dummies(combined_data['quarter'],prefix='quarter')\n",
    "# combined_data = pd.concat([combined_data,quarter_dummies],axis=1)\n",
    "\n",
    "# Year\n",
    "\n",
    "year_dummies = pd.get_dummies(combined_data['year'],prefix='year')\n",
    "combined_data = pd.concat([combined_data,year_dummies],axis=1)\n",
    "\n",
    "# Bedrooms\n",
    "bd_dummies = pd.get_dummies(combined_data['bd'],prefix='bd_')\n",
    "combined_data = pd.concat([combined_data,bd_dummies],axis=1)\n",
    "\n",
    "# Drop categorical columns\n",
    "combined_data.drop(['month','quarter','year','bd'],axis=1,inplace=True)"
   ]
  },
  {
   "cell_type": "code",
   "execution_count": 8,
   "metadata": {},
   "outputs": [],
   "source": [
    "# Add Census Data\n",
    "combined_data = pd.merge(combined_data,rel_census_data,left_on='zipcode',right_on='zip_code_tabulation_area_(5-digit)').drop('zip_code_tabulation_area_(5-digit)',axis=1)\n",
    "\n",
    "\n",
    "# Drop final cols (used to join)\n",
    "combined_data.drop(['zipcode'],axis=1,inplace=True)\n",
    "combined_data.drop(['inventory'],axis=1,inplace=True)"
   ]
  },
  {
   "cell_type": "code",
   "execution_count": 9,
   "metadata": {},
   "outputs": [],
   "source": [
    "combined_data.to_csv('../data/processed/combined_data.csv')"
   ]
  }
 ],
 "metadata": {
  "kernelspec": {
   "display_name": "Python 3",
   "language": "python",
   "name": "python3"
  },
  "language_info": {
   "codemirror_mode": {
    "name": "ipython",
    "version": 3
   },
   "file_extension": ".py",
   "mimetype": "text/x-python",
   "name": "python",
   "nbconvert_exporter": "python",
   "pygments_lexer": "ipython3",
   "version": "3.7.0"
  }
 },
 "nbformat": 4,
 "nbformat_minor": 4
}
